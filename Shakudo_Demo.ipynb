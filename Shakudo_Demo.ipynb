{
 "cells": [
  {
   "cell_type": "code",
   "execution_count": 74,
   "id": "cellular-camping",
   "metadata": {},
   "outputs": [],
   "source": [
    "import cudf\n",
    "import cupy\n",
    "import glob\n",
    "import xarray\n",
    "import scipy.io as sio\n",
    "import datashader as ds\n",
    "import numpy as np\n",
    "from collections import OrderedDict\n",
    "import datashader.transfer_functions as tf\n",
    "import pandas as pd\n",
    "import matplotlib.pyplot as plt\n",
    "from cupyx.scipy.special import kl_div\n",
    "import seaborn as sns\n",
    "from matplotlib.colors import LogNorm"
   ]
  },
  {
   "cell_type": "code",
   "execution_count": 89,
   "id": "collectible-microwave",
   "metadata": {},
   "outputs": [],
   "source": [
    "data = sio.loadmat('pavia.mat')\n",
    "gt = sio.loadmat('pavia_gt.mat')\n",
    "mask = sio.loadmat('PaviaGrTruthMask.mat')\n",
    "wvs = sio.loadmat('PaviaWavelengths.mat')\n",
    "hsi = data['paviaU']\n",
    "gt = gt['paviaU_gt']\n",
    "mask = mask['PaviaGrTruthMask']\n",
    "wvs = wvs['PaviaWavelengths']\n",
    "wvs = cupy.squeeze(np.round(wvs,3),axis=0)*1000"
   ]
  },
  {
   "cell_type": "code",
   "execution_count": 90,
   "id": "starting-horizon",
   "metadata": {},
   "outputs": [
    {
     "data": {
      "text/plain": [
       "(207400, 103)"
      ]
     },
     "execution_count": 90,
     "metadata": {},
     "output_type": "execute_result"
    }
   ],
   "source": [
    "hsi_vec = cupy.reshape(hsi,(hsi.shape[0]*hsi.shape[1],hsi.shape[2]))\n",
    "mask_vec = cupy.reshape(mask,(mask.shape[0]*mask.shape[1],)).astype(bool)\n",
    "hsi_vec = hsi_vec/cupy.max(hsi_vec)\n",
    "hsi_vec[hsi_vec==0]=0.0001\n",
    "hsi_vec = cupy.array(hsi_vec)\n",
    "hsi_vec.shape"
   ]
  },
  {
   "cell_type": "code",
   "execution_count": 91,
   "id": "arranged-encounter",
   "metadata": {},
   "outputs": [
    {
     "data": {
      "text/html": [
       "<div>\n",
       "<style scoped>\n",
       "    .dataframe tbody tr th:only-of-type {\n",
       "        vertical-align: middle;\n",
       "    }\n",
       "\n",
       "    .dataframe tbody tr th {\n",
       "        vertical-align: top;\n",
       "    }\n",
       "\n",
       "    .dataframe thead th {\n",
       "        text-align: right;\n",
       "    }\n",
       "</style>\n",
       "<table border=\"1\" class=\"dataframe\">\n",
       "  <thead>\n",
       "    <tr style=\"text-align: right;\">\n",
       "      <th></th>\n",
       "      <th>430.0</th>\n",
       "      <th>434.0</th>\n",
       "      <th>438.0</th>\n",
       "      <th>443.0</th>\n",
       "      <th>447.0</th>\n",
       "      <th>451.0</th>\n",
       "      <th>455.0</th>\n",
       "      <th>460.0</th>\n",
       "      <th>464.0</th>\n",
       "      <th>468.0</th>\n",
       "      <th>...</th>\n",
       "      <th>822.0</th>\n",
       "      <th>826.0</th>\n",
       "      <th>830.0</th>\n",
       "      <th>835.0</th>\n",
       "      <th>839.0</th>\n",
       "      <th>843.0</th>\n",
       "      <th>847.0</th>\n",
       "      <th>852.0</th>\n",
       "      <th>856.0</th>\n",
       "      <th>860.0</th>\n",
       "    </tr>\n",
       "  </thead>\n",
       "  <tbody>\n",
       "    <tr>\n",
       "      <th>0</th>\n",
       "      <td>0.080875</td>\n",
       "      <td>0.062375</td>\n",
       "      <td>0.058000</td>\n",
       "      <td>0.046375</td>\n",
       "      <td>0.036375</td>\n",
       "      <td>0.039875</td>\n",
       "      <td>0.045625</td>\n",
       "      <td>0.04025</td>\n",
       "      <td>0.037000</td>\n",
       "      <td>0.038125</td>\n",
       "      <td>...</td>\n",
       "      <td>0.427500</td>\n",
       "      <td>0.427000</td>\n",
       "      <td>0.416875</td>\n",
       "      <td>0.407000</td>\n",
       "      <td>0.403250</td>\n",
       "      <td>0.400625</td>\n",
       "      <td>0.401250</td>\n",
       "      <td>0.402625</td>\n",
       "      <td>0.404750</td>\n",
       "      <td>0.406250</td>\n",
       "    </tr>\n",
       "    <tr>\n",
       "      <th>1</th>\n",
       "      <td>0.075500</td>\n",
       "      <td>0.068250</td>\n",
       "      <td>0.065875</td>\n",
       "      <td>0.056875</td>\n",
       "      <td>0.047250</td>\n",
       "      <td>0.047125</td>\n",
       "      <td>0.042000</td>\n",
       "      <td>0.03925</td>\n",
       "      <td>0.040500</td>\n",
       "      <td>0.041125</td>\n",
       "      <td>...</td>\n",
       "      <td>0.325625</td>\n",
       "      <td>0.322875</td>\n",
       "      <td>0.317250</td>\n",
       "      <td>0.313625</td>\n",
       "      <td>0.313875</td>\n",
       "      <td>0.312625</td>\n",
       "      <td>0.308500</td>\n",
       "      <td>0.305250</td>\n",
       "      <td>0.308000</td>\n",
       "      <td>0.316000</td>\n",
       "    </tr>\n",
       "    <tr>\n",
       "      <th>2</th>\n",
       "      <td>0.077625</td>\n",
       "      <td>0.093250</td>\n",
       "      <td>0.069500</td>\n",
       "      <td>0.045000</td>\n",
       "      <td>0.035625</td>\n",
       "      <td>0.037500</td>\n",
       "      <td>0.034250</td>\n",
       "      <td>0.03450</td>\n",
       "      <td>0.041500</td>\n",
       "      <td>0.039875</td>\n",
       "      <td>...</td>\n",
       "      <td>0.285250</td>\n",
       "      <td>0.286000</td>\n",
       "      <td>0.280250</td>\n",
       "      <td>0.274125</td>\n",
       "      <td>0.275250</td>\n",
       "      <td>0.278125</td>\n",
       "      <td>0.283250</td>\n",
       "      <td>0.288500</td>\n",
       "      <td>0.293125</td>\n",
       "      <td>0.295125</td>\n",
       "    </tr>\n",
       "    <tr>\n",
       "      <th>3</th>\n",
       "      <td>0.079625</td>\n",
       "      <td>0.074000</td>\n",
       "      <td>0.060250</td>\n",
       "      <td>0.069500</td>\n",
       "      <td>0.063500</td>\n",
       "      <td>0.035500</td>\n",
       "      <td>0.022250</td>\n",
       "      <td>0.02475</td>\n",
       "      <td>0.024125</td>\n",
       "      <td>0.028000</td>\n",
       "      <td>...</td>\n",
       "      <td>0.335500</td>\n",
       "      <td>0.334375</td>\n",
       "      <td>0.326125</td>\n",
       "      <td>0.317625</td>\n",
       "      <td>0.318875</td>\n",
       "      <td>0.321375</td>\n",
       "      <td>0.321125</td>\n",
       "      <td>0.321625</td>\n",
       "      <td>0.327500</td>\n",
       "      <td>0.330500</td>\n",
       "    </tr>\n",
       "    <tr>\n",
       "      <th>4</th>\n",
       "      <td>0.078125</td>\n",
       "      <td>0.070000</td>\n",
       "      <td>0.060000</td>\n",
       "      <td>0.045000</td>\n",
       "      <td>0.047125</td>\n",
       "      <td>0.042625</td>\n",
       "      <td>0.033000</td>\n",
       "      <td>0.02600</td>\n",
       "      <td>0.028875</td>\n",
       "      <td>0.033250</td>\n",
       "      <td>...</td>\n",
       "      <td>0.302875</td>\n",
       "      <td>0.299000</td>\n",
       "      <td>0.293000</td>\n",
       "      <td>0.286125</td>\n",
       "      <td>0.291000</td>\n",
       "      <td>0.301875</td>\n",
       "      <td>0.303000</td>\n",
       "      <td>0.298250</td>\n",
       "      <td>0.303875</td>\n",
       "      <td>0.307000</td>\n",
       "    </tr>\n",
       "  </tbody>\n",
       "</table>\n",
       "<p>5 rows × 103 columns</p>\n",
       "</div>"
      ],
      "text/plain": [
       "      430.0     434.0     438.0     443.0     447.0     451.0     455.0  \\\n",
       "0  0.080875  0.062375  0.058000  0.046375  0.036375  0.039875  0.045625   \n",
       "1  0.075500  0.068250  0.065875  0.056875  0.047250  0.047125  0.042000   \n",
       "2  0.077625  0.093250  0.069500  0.045000  0.035625  0.037500  0.034250   \n",
       "3  0.079625  0.074000  0.060250  0.069500  0.063500  0.035500  0.022250   \n",
       "4  0.078125  0.070000  0.060000  0.045000  0.047125  0.042625  0.033000   \n",
       "\n",
       "     460.0     464.0     468.0  ...     822.0     826.0     830.0     835.0  \\\n",
       "0  0.04025  0.037000  0.038125  ...  0.427500  0.427000  0.416875  0.407000   \n",
       "1  0.03925  0.040500  0.041125  ...  0.325625  0.322875  0.317250  0.313625   \n",
       "2  0.03450  0.041500  0.039875  ...  0.285250  0.286000  0.280250  0.274125   \n",
       "3  0.02475  0.024125  0.028000  ...  0.335500  0.334375  0.326125  0.317625   \n",
       "4  0.02600  0.028875  0.033250  ...  0.302875  0.299000  0.293000  0.286125   \n",
       "\n",
       "      839.0     843.0     847.0     852.0     856.0     860.0  \n",
       "0  0.403250  0.400625  0.401250  0.402625  0.404750  0.406250  \n",
       "1  0.313875  0.312625  0.308500  0.305250  0.308000  0.316000  \n",
       "2  0.275250  0.278125  0.283250  0.288500  0.293125  0.295125  \n",
       "3  0.318875  0.321375  0.321125  0.321625  0.327500  0.330500  \n",
       "4  0.291000  0.301875  0.303000  0.298250  0.303875  0.307000  \n",
       "\n",
       "[5 rows x 103 columns]"
      ]
     },
     "execution_count": 91,
     "metadata": {},
     "output_type": "execute_result"
    }
   ],
   "source": [
    "time = cupy.linspace(0,1,len(hsi_vec))\n",
    "cdf = cudf.DataFrame(hsi_vec,columns=wvs)\n",
    "cdf.head()"
   ]
  },
  {
   "cell_type": "code",
   "execution_count": 93,
   "id": "4e8d8e8c-feef-4c16-bfd8-950574325978",
   "metadata": {},
   "outputs": [],
   "source": [
    "sim_mat = cupy.zeros((hsi_vec.shape[1],hsi_vec.shape[1]))\n",
    "for i in range(0,sim_mat.shape[0]):\n",
    "    v1 = hsi_vec[:,i]\n",
    "    for j in range(0,sim_mat.shape[1]):\n",
    "        v2 = hsi_vec[:,j]\n",
    "        sim_mat[i,j] = .5*cupy.sum(kl_div(v1,v2))+.5*cupy.sum(kl_div(v2,v1))+0.001"
   ]
  },
  {
   "cell_type": "code",
   "execution_count": 94,
   "id": "3d53e0fc-f39b-4fc8-ace3-199049dffa18",
   "metadata": {},
   "outputs": [
    {
     "data": {
      "image/png": "[encoded data removed]",
      "text/plain": [
       "<Figure size 432x288 with 2 Axes>"
      ]
     },
     "metadata": {
      "needs_background": "light"
     },
     "output_type": "display_data"
    }
   ],
   "source": [
    "df = pd.DataFrame(sim_mat.get(),columns=wvs,index=wvs)\n",
    "p = sns.heatmap(df, cmap=\"YlGnBu\", xticklabels=25, yticklabels=25, vmin=0, vmax=500)\n",
    "p.set_xlabel(\"Wavelengths [nm]\")\n",
    "p.set_ylabel(\"Wavelengths [nm]\")\n",
    "p.set(title=\"Similarity between bands [yellow is more similar]\");"
   ]
  },
  {
   "cell_type": "code",
   "execution_count": 104,
   "id": "a0e157f7-de3c-45d2-99c6-7a6360ad81be",
   "metadata": {},
   "outputs": [
    {
     "data": {
      "image/png": "[encoded data removed]",
      "text/plain": [
       "<Figure size 432x288 with 1 Axes>"
      ]
     },
     "metadata": {
      "needs_background": "light"
     },
     "output_type": "display_data"
    }
   ],
   "source": [
    "p = sns.histplot(data=np.triu(sim_mat.get()),x=np.unique(sim_mat.get()))\n",
    "p.set_xlabel(\"Jensen-Shannon Divergence Scores\")\n",
    "p.set_ylabel(\"Counts\");"
   ]
  },
  {
   "cell_type": "code",
   "execution_count": 95,
   "id": "radical-thriller",
   "metadata": {},
   "outputs": [
    {
     "data": {
      "text/plain": [
       "array(0.001)"
      ]
     },
     "execution_count": 95,
     "metadata": {},
     "output_type": "execute_result"
    }
   ],
   "source": [
    "sim_mask = sim_mat>0.001&sim_mat<10000"
   ]
  },
  {
   "cell_type": "code",
   "execution_count": null,
   "id": "ad272dd4-d4f3-4452-a030-f0b9d5c47b9f",
   "metadata": {},
   "outputs": [],
   "source": []
  }
 ],
 "metadata": {
  "kernelspec": {
   "display_name": "Python 3",
   "language": "python",
   "name": "python3"
  },
  "language_info": {
   "codemirror_mode": {
    "name": "ipython",
    "version": 3
   },
   "file_extension": ".py",
   "mimetype": "text/x-python",
   "name": "python",
   "nbconvert_exporter": "python",
   "pygments_lexer": "ipython3",
   "version": "3.7.12"
  }
 },
 "nbformat": 4,
 "nbformat_minor": 5
}
